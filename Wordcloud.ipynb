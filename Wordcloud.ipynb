{
 "cells": [
  {
   "cell_type": "code",
   "execution_count": 5,
   "metadata": {},
   "outputs": [
    {
     "name": "stdout",
     "output_type": "stream",
     "text": [
      "Requirement already satisfied: wordcloud in c:\\users\\agouv\\anaconda3\\lib\\site-packages (1.8.0)\n",
      "Requirement already satisfied: matplotlib in c:\\users\\agouv\\anaconda3\\lib\\site-packages (from wordcloud) (3.1.3)\n",
      "Requirement already satisfied: numpy>=1.6.1 in c:\\users\\agouv\\anaconda3\\lib\\site-packages (from wordcloud) (1.18.1)\n",
      "Requirement already satisfied: pillow in c:\\users\\agouv\\anaconda3\\lib\\site-packages (from wordcloud) (7.1.2)\n",
      "Requirement already satisfied: python-dateutil>=2.1 in c:\\users\\agouv\\anaconda3\\lib\\site-packages (from matplotlib->wordcloud) (2.8.1)\n",
      "Requirement already satisfied: pyparsing!=2.0.4,!=2.1.2,!=2.1.6,>=2.0.1 in c:\\users\\agouv\\anaconda3\\lib\\site-packages (from matplotlib->wordcloud) (2.4.7)\n",
      "Requirement already satisfied: cycler>=0.10 in c:\\users\\agouv\\anaconda3\\lib\\site-packages (from matplotlib->wordcloud) (0.10.0)\n",
      "Requirement already satisfied: kiwisolver>=1.0.1 in c:\\users\\agouv\\anaconda3\\lib\\site-packages (from matplotlib->wordcloud) (1.2.0)\n",
      "Requirement already satisfied: six>=1.5 in c:\\users\\agouv\\anaconda3\\lib\\site-packages (from python-dateutil>=2.1->matplotlib->wordcloud) (1.14.0)\n"
     ]
    }
   ],
   "source": [
    "!pip install wordcloud"
   ]
  },
  {
   "cell_type": "markdown",
   "metadata": {},
   "source": [
    "# Table of contents"
   ]
  },
  {
   "cell_type": "markdown",
   "metadata": {},
   "source": [
    "<ul>\n",
    "<li><a href=\"#Clean\">Clean & Split the text</a></li>\n",
    "<li><a href=\"#Count\"> Count the words inthe text</a></li>\n",
    "<li><a href=\"#wc\">Create the wordcloud</a></li>\n",
    "</ul>"
   ]
  },
  {
   "cell_type": "markdown",
   "metadata": {},
   "source": [
    "### Import Libraries"
   ]
  },
  {
   "cell_type": "code",
   "execution_count": 6,
   "metadata": {},
   "outputs": [],
   "source": [
    "import pandas as pd\n",
    "import numpy as np\n",
    "from wordcloud import WordCloud,STOPWORDS,ImageColorGenerator\n",
    "from PIL import Image\n",
    "import matplotlib.pyplot as plt"
   ]
  },
  {
   "cell_type": "markdown",
   "metadata": {},
   "source": [
    "### Import CSV file"
   ]
  },
  {
   "cell_type": "code",
   "execution_count": 7,
   "metadata": {},
   "outputs": [
    {
     "data": {
      "text/html": [
       "<div>\n",
       "<style scoped>\n",
       "    .dataframe tbody tr th:only-of-type {\n",
       "        vertical-align: middle;\n",
       "    }\n",
       "\n",
       "    .dataframe tbody tr th {\n",
       "        vertical-align: top;\n",
       "    }\n",
       "\n",
       "    .dataframe thead th {\n",
       "        text-align: right;\n",
       "    }\n",
       "</style>\n",
       "<table border=\"1\" class=\"dataframe\">\n",
       "  <thead>\n",
       "    <tr style=\"text-align: right;\">\n",
       "      <th></th>\n",
       "      <th>2020-09-19 17:52:00</th>\n",
       "      <th>mpartselona: o kouman ipe ston pouts na psaksi nea omada epimelia: kostas avgoustakis dimosievsi: 19 sep. 2020 17:52 o proponitis tis mpartselona, ronalnt kouman, ferete na ipe ston riki pouts na anazitisi ton epomeno stathmo tis karieras tou, efoson den briskete sta plana tou gia ti nea sezon. sta plana tou ronalnt kouman gia ti nea sezon den briskete o riki pouts. o proponitis tis mpartselona, opos anaferi to katalaniko radiofono rac1, ipe ston 21hrono meso na psaksi gia tin nea tou omada. advertising simfona me to ispaniko mme, o kouman den pistike me osa ide apo ton pouts stin proetimasia ton katalanon, eno parallila theori oti den iparhi horos gi' avton sti mesea grammi tis omadas tou, efoson eki briskonte idi i nte giongk ke pianits. o pouts, o opios proerhete apo ta fitoria tis mpartselona, ehi agonisti se 15 pehnidia me tin andriki omada ton katalanon, eno o kike setien ton hrisimopiise 11 fores stin persini sezon tis la liga. to simboleo tou me tous mplaougkrana ligi to 2023. diabaste akoma: mpartselona: i 16 akarpes epafes gia na klisi ton laoutaro martines mpartselona: o kouman theli ton ntest</th>\n",
       "    </tr>\n",
       "  </thead>\n",
       "  <tbody>\n",
       "    <tr>\n",
       "      <th>0</th>\n",
       "      <td>2020-09-19 17:54:00</td>\n",
       "      <td>astamatito gelio apo kimeno tou sb nation gia ...</td>\n",
       "    </tr>\n",
       "    <tr>\n",
       "      <th>1</th>\n",
       "      <td>2020-10-13 09:18:00</td>\n",
       "      <td>silber: mponous 1.000 dolaria ke mazemena repo...</td>\n",
       "    </tr>\n",
       "    <tr>\n",
       "      <th>2</th>\n",
       "      <td>2020-09-19 21:07:00</td>\n",
       "      <td>me othisi apo ton gkornton heigouornt i seltik...</td>\n",
       "    </tr>\n",
       "    <tr>\n",
       "      <th>3</th>\n",
       "      <td>2020-09-19 21:19:00</td>\n",
       "      <td>olimpiakos: halara sto parke meta apo tin epis...</td>\n",
       "    </tr>\n",
       "    <tr>\n",
       "      <th>4</th>\n",
       "      <td>2020-09-19 21:30:00</td>\n",
       "      <td>se estiatorio ton borion proastion giannis ke ...</td>\n",
       "    </tr>\n",
       "    <tr>\n",
       "      <th>5</th>\n",
       "      <td>2020-08-17 15:44:00</td>\n",
       "      <td>\"o artour trakare ipo tin epiria alkool\" epime...</td>\n",
       "    </tr>\n",
       "    <tr>\n",
       "      <th>6</th>\n",
       "      <td>2020-08-29 11:02:00</td>\n",
       "      <td>gioubentous: eklise to deal me tin roma gia ti...</td>\n",
       "    </tr>\n",
       "    <tr>\n",
       "      <th>7</th>\n",
       "      <td>2020-09-02 09:20:00</td>\n",
       "      <td>mpartselona: gioubentous ke pari stin koursa g...</td>\n",
       "    </tr>\n",
       "    <tr>\n",
       "      <th>8</th>\n",
       "      <td>2020-08-27 19:29:00</td>\n",
       "      <td>gioubentous: to minima tou ronalnto gia tin ka...</td>\n",
       "    </tr>\n",
       "  </tbody>\n",
       "</table>\n",
       "</div>"
      ],
      "text/plain": [
       "   2020-09-19 17:52:00  \\\n",
       "0  2020-09-19 17:54:00   \n",
       "1  2020-10-13 09:18:00   \n",
       "2  2020-09-19 21:07:00   \n",
       "3  2020-09-19 21:19:00   \n",
       "4  2020-09-19 21:30:00   \n",
       "5  2020-08-17 15:44:00   \n",
       "6  2020-08-29 11:02:00   \n",
       "7  2020-09-02 09:20:00   \n",
       "8  2020-08-27 19:29:00   \n",
       "\n",
       "  mpartselona: o kouman ipe ston pouts na psaksi nea omada epimelia: kostas avgoustakis dimosievsi: 19 sep. 2020 17:52 o proponitis tis mpartselona, ronalnt kouman, ferete na ipe ston riki pouts na anazitisi ton epomeno stathmo tis karieras tou, efoson den briskete sta plana tou gia ti nea sezon. sta plana tou ronalnt kouman gia ti nea sezon den briskete o riki pouts. o proponitis tis mpartselona, opos anaferi to katalaniko radiofono rac1, ipe ston 21hrono meso na psaksi gia tin nea tou omada. advertising simfona me to ispaniko mme, o kouman den pistike me osa ide apo ton pouts stin proetimasia ton katalanon, eno parallila theori oti den iparhi horos gi' avton sti mesea grammi tis omadas tou, efoson eki briskonte idi i nte giongk ke pianits. o pouts, o opios proerhete apo ta fitoria tis mpartselona, ehi agonisti se 15 pehnidia me tin andriki omada ton katalanon, eno o kike setien ton hrisimopiise 11 fores stin persini sezon tis la liga. to simboleo tou me tous mplaougkrana ligi to 2023. diabaste akoma: mpartselona: i 16 akarpes epafes gia na klisi ton laoutaro martines mpartselona: o kouman theli ton ntest  \n",
       "0  astamatito gelio apo kimeno tou sb nation gia ...                                                                                                                                                                                                                                                                                                                                                                                                                                                                                                                                                                                                                                                                                                                                                                                                                                                                                                                                                                                                                                                                                                                 \n",
       "1  silber: mponous 1.000 dolaria ke mazemena repo...                                                                                                                                                                                                                                                                                                                                                                                                                                                                                                                                                                                                                                                                                                                                                                                                                                                                                                                                                                                                                                                                                                                 \n",
       "2  me othisi apo ton gkornton heigouornt i seltik...                                                                                                                                                                                                                                                                                                                                                                                                                                                                                                                                                                                                                                                                                                                                                                                                                                                                                                                                                                                                                                                                                                                 \n",
       "3  olimpiakos: halara sto parke meta apo tin epis...                                                                                                                                                                                                                                                                                                                                                                                                                                                                                                                                                                                                                                                                                                                                                                                                                                                                                                                                                                                                                                                                                                                 \n",
       "4  se estiatorio ton borion proastion giannis ke ...                                                                                                                                                                                                                                                                                                                                                                                                                                                                                                                                                                                                                                                                                                                                                                                                                                                                                                                                                                                                                                                                                                                 \n",
       "5  \"o artour trakare ipo tin epiria alkool\" epime...                                                                                                                                                                                                                                                                                                                                                                                                                                                                                                                                                                                                                                                                                                                                                                                                                                                                                                                                                                                                                                                                                                                 \n",
       "6  gioubentous: eklise to deal me tin roma gia ti...                                                                                                                                                                                                                                                                                                                                                                                                                                                                                                                                                                                                                                                                                                                                                                                                                                                                                                                                                                                                                                                                                                                 \n",
       "7  mpartselona: gioubentous ke pari stin koursa g...                                                                                                                                                                                                                                                                                                                                                                                                                                                                                                                                                                                                                                                                                                                                                                                                                                                                                                                                                                                                                                                                                                                 \n",
       "8  gioubentous: to minima tou ronalnto gia tin ka...                                                                                                                                                                                                                                                                                                                                                                                                                                                                                                                                                                                                                                                                                                                                                                                                                                                                                                                                                                                                                                                                                                                 "
      ]
     },
     "execution_count": 7,
     "metadata": {},
     "output_type": "execute_result"
    }
   ],
   "source": [
    "text=pd.read_csv(\"articles_small.csv\")\n",
    "stopwords=set(STOPWORDS)\n",
    "text"
   ]
  },
  {
   "cell_type": "markdown",
   "metadata": {},
   "source": [
    "<a id='Clean'></a>\n",
    "## Clean & Split the text"
   ]
  },
  {
   "cell_type": "code",
   "execution_count": 8,
   "metadata": {},
   "outputs": [
    {
     "data": {
      "text/html": [
       "<div>\n",
       "<style scoped>\n",
       "    .dataframe tbody tr th:only-of-type {\n",
       "        vertical-align: middle;\n",
       "    }\n",
       "\n",
       "    .dataframe tbody tr th {\n",
       "        vertical-align: top;\n",
       "    }\n",
       "\n",
       "    .dataframe thead th {\n",
       "        text-align: right;\n",
       "    }\n",
       "</style>\n",
       "<table border=\"1\" class=\"dataframe\">\n",
       "  <thead>\n",
       "    <tr style=\"text-align: right;\">\n",
       "      <th></th>\n",
       "      <th>2020-09-19 17:52:00</th>\n",
       "      <th>mpartselona: o kouman ipe ston pouts na psaksi nea omada epimelia: kostas avgoustakis dimosievsi: 19 sep. 2020 17:52 o proponitis tis mpartselona, ronalnt kouman, ferete na ipe ston riki pouts na anazitisi ton epomeno stathmo tis karieras tou, efoson den briskete sta plana tou gia ti nea sezon. sta plana tou ronalnt kouman gia ti nea sezon den briskete o riki pouts. o proponitis tis mpartselona, opos anaferi to katalaniko radiofono rac1, ipe ston 21hrono meso na psaksi gia tin nea tou omada. advertising simfona me to ispaniko mme, o kouman den pistike me osa ide apo ton pouts stin proetimasia ton katalanon, eno parallila theori oti den iparhi horos gi' avton sti mesea grammi tis omadas tou, efoson eki briskonte idi i nte giongk ke pianits. o pouts, o opios proerhete apo ta fitoria tis mpartselona, ehi agonisti se 15 pehnidia me tin andriki omada ton katalanon, eno o kike setien ton hrisimopiise 11 fores stin persini sezon tis la liga. to simboleo tou me tous mplaougkrana ligi to 2023. diabaste akoma: mpartselona: i 16 akarpes epafes gia na klisi ton laoutaro martines mpartselona: o kouman theli ton ntest</th>\n",
       "    </tr>\n",
       "  </thead>\n",
       "  <tbody>\n",
       "  </tbody>\n",
       "</table>\n",
       "</div>"
      ],
      "text/plain": [
       "Empty DataFrame\n",
       "Columns: [2020-09-19 17:52:00, mpartselona: o kouman ipe ston pouts na psaksi nea omada epimelia: kostas avgoustakis dimosievsi: 19 sep. 2020 17:52 o proponitis tis mpartselona, ronalnt kouman, ferete na ipe ston riki pouts na anazitisi ton epomeno stathmo tis karieras tou, efoson den briskete sta plana tou gia ti nea sezon. sta plana tou ronalnt kouman gia ti nea sezon den briskete o riki pouts. o proponitis tis mpartselona, opos anaferi to katalaniko radiofono rac1, ipe ston 21hrono meso na psaksi gia tin nea tou omada. advertising simfona me to ispaniko mme, o kouman den pistike me osa ide apo ton pouts stin proetimasia ton katalanon, eno parallila theori oti den iparhi horos gi' avton sti mesea grammi tis omadas tou, efoson eki briskonte idi i nte giongk ke pianits. o pouts, o opios proerhete apo ta fitoria tis mpartselona, ehi agonisti se 15 pehnidia me tin andriki omada ton katalanon, eno o kike setien ton hrisimopiise 11 fores stin persini sezon tis la liga. to simboleo tou me tous mplaougkrana ligi to 2023. diabaste akoma: mpartselona: i 16 akarpes epafes gia na klisi ton laoutaro martines mpartselona: o kouman theli ton ntest]\n",
       "Index: []"
      ]
     },
     "execution_count": 8,
     "metadata": {},
     "output_type": "execute_result"
    }
   ],
   "source": [
    "# Drop Raws to make the text more clear\n",
    "text = text.iloc[0:0]\n",
    "text"
   ]
  },
  {
   "cell_type": "code",
   "execution_count": 9,
   "metadata": {},
   "outputs": [],
   "source": [
    "# Define text \n",
    "text='mpartselona o kouman ipe ston pouts na psaksi nea omada epimelia: kostas avgoustakis dimosievsi 19 sep. 2020 17:52 o proponitis tis mpartselona, ronalnt kouman, ferete na ipe ston riki pouts na anazitisi ton epomeno stathmo tis karieras tou, efoson den briskete sta plana tou gia ti nea sezon. sta plana tou ronalnt kouman gia ti nea sezon den briskete o riki pouts. o proponitis tis mpartselona, opos anaferi to katalaniko radiofono rac1, ipe ston 21hrono meso na psaksi gia tin nea tou omada. advertising simfona me to ispaniko mme, o kouman den pistike me osa ide apo ton pouts stin proetimasia ton katalanon, eno parallila theori oti den iparhi horos gi avton sti mesea grammi tis omadas tou, efoson eki briskonte idi i nte giongk ke pianits. o pouts, o opios proerhete apo ta fitoria tis mpartselona, ehi agonisti se 15 pehnidia me tin andriki omada ton katalanon, eno o kike setien ton hrisimopiise 11 fores stin persini sezon tis la liga. to simboleo tou me tous mplaougkrana ligi to 2023. diabaste akoma: mpartselona: i 16 akarpes epafes gia na klisi ton laoutaro martines mpartselona: o kouman theli ton ntest'\n"
   ]
  },
  {
   "cell_type": "code",
   "execution_count": 14,
   "metadata": {},
   "outputs": [
    {
     "name": "stdout",
     "output_type": "stream",
     "text": [
      "mpartselona o kouman ipe ston pouts na psaksi nea omada epimelia: kostas avgoustakis dimosievsi 19 sep 2020 17:52 o proponitis tis mpartselona ronalnt kouman ferete na ipe ston riki pouts na anazitisi ton epomeno stathmo tis karieras tou efoson den briskete sta plana tou gia ti nea sezon sta plana tou ronalnt kouman gia ti nea sezon den briskete o riki pouts o proponitis tis mpartselona opos anaferi to katalaniko radiofono rac1 ipe ston 21hrono meso na psaksi gia tin nea tou omada advertising simfona me to ispaniko mme o kouman den pistike me osa ide apo ton pouts stin proetimasia ton katalanon eno parallila theori oti den iparhi horos gi avton sti mesea grammi tis omadas tou efoson eki briskonte idi i nte giongk ke pianits o pouts o opios proerhete apo ta fitoria tis mpartselona ehi agonisti se 15 pehnidia me tin andriki omada ton katalanon eno o kike setien ton hrisimopiise 11 fores stin persini sezon tis la liga to simboleo tou me tous mplaougkrana ligi to 2023 diabaste akoma: mpartselona: i 16 akarpes epafes gia na klisi ton laoutaro martines mpartselona: o kouman theli ton ntest\n"
     ]
    }
   ],
   "source": [
    "# Clean punctuantion  \n",
    "for char in '-.,\\n':\n",
    "  text = text.replace(char,'')\n",
    "text=text.lower() \n",
    "print(text)"
   ]
  },
  {
   "cell_type": "code",
   "execution_count": 16,
   "metadata": {},
   "outputs": [],
   "source": [
    "#Transform all words in lowercase\n",
    "text=text.lower()"
   ]
  },
  {
   "cell_type": "code",
   "execution_count": 18,
   "metadata": {},
   "outputs": [
    {
     "name": "stdout",
     "output_type": "stream",
     "text": [
      "['mpartselona', 'o', 'kouman', 'ipe', 'ston', 'pouts', 'na', 'psaksi', 'nea', 'omada', 'epimelia:', 'kostas', 'avgoustakis', 'dimosievsi', '19', 'sep', '2020', '17:52', 'o', 'proponitis', 'tis', 'mpartselona', 'ronalnt', 'kouman', 'ferete', 'na', 'ipe', 'ston', 'riki', 'pouts', 'na', 'anazitisi', 'ton', 'epomeno', 'stathmo', 'tis', 'karieras', 'tou', 'efoson', 'den', 'briskete', 'sta', 'plana', 'tou', 'gia', 'ti', 'nea', 'sezon', 'sta', 'plana', 'tou', 'ronalnt', 'kouman', 'gia', 'ti', 'nea', 'sezon', 'den', 'briskete', 'o', 'riki', 'pouts', 'o', 'proponitis', 'tis', 'mpartselona', 'opos', 'anaferi', 'to', 'katalaniko', 'radiofono', 'rac1', 'ipe', 'ston', '21hrono', 'meso', 'na', 'psaksi', 'gia', 'tin', 'nea', 'tou', 'omada', 'advertising', 'simfona', 'me', 'to', 'ispaniko', 'mme', 'o', 'kouman', 'den', 'pistike', 'me', 'osa', 'ide', 'apo', 'ton', 'pouts', 'stin', 'proetimasia', 'ton', 'katalanon', 'eno', 'parallila', 'theori', 'oti', 'den', 'iparhi', 'horos', 'gi', 'avton', 'sti', 'mesea', 'grammi', 'tis', 'omadas', 'tou', 'efoson', 'eki', 'briskonte', 'idi', 'i', 'nte', 'giongk', 'ke', 'pianits', 'o', 'pouts', 'o', 'opios', 'proerhete', 'apo', 'ta', 'fitoria', 'tis', 'mpartselona', 'ehi', 'agonisti', 'se', '15', 'pehnidia', 'me', 'tin', 'andriki', 'omada', 'ton', 'katalanon', 'eno', 'o', 'kike', 'setien', 'ton', 'hrisimopiise', '11', 'fores', 'stin', 'persini', 'sezon', 'tis', 'la', 'liga', 'to', 'simboleo', 'tou', 'me', 'tous', 'mplaougkrana', 'ligi', 'to', '2023', 'diabaste', 'akoma:', 'mpartselona:', 'i', '16', 'akarpes', 'epafes', 'gia', 'na', 'klisi', 'ton', 'laoutaro', 'martines', 'mpartselona:', 'o', 'kouman', 'theli', 'ton', 'ntest']\n"
     ]
    }
   ],
   "source": [
    "# Create word list \n",
    "word_list=text.split()\n",
    "print (word_list)"
   ]
  },
  {
   "cell_type": "markdown",
   "metadata": {},
   "source": [
    "### Add stop words in order to avoid unuseful word to be appeard in our wordcloud."
   ]
  },
  {
   "cell_type": "code",
   "execution_count": 19,
   "metadata": {},
   "outputs": [
    {
     "name": "stdout",
     "output_type": "stream",
     "text": [
      "showing info https://raw.githubusercontent.com/nltk/nltk_data/gh-pages/index.xml\n"
     ]
    },
    {
     "data": {
      "text/plain": [
       "True"
      ]
     },
     "execution_count": 19,
     "metadata": {},
     "output_type": "execute_result"
    }
   ],
   "source": [
    " import nltk\n",
    "nltk.download()"
   ]
  },
  {
   "cell_type": "code",
   "execution_count": 20,
   "metadata": {},
   "outputs": [],
   "source": [
    "stopwords = nltk.corpus.stopwords.words('english')\n",
    "StopWords = ['ti','tis','na','den','tou','eno','apo','gia','tin','ton','ston','sta','na','ipe', 'ipe ston', 'ta']\n",
    "stopwords.extend(StopWords)"
   ]
  },
  {
   "cell_type": "markdown",
   "metadata": {},
   "source": [
    "<a id='Count'></a>\n",
    "##  Count the words in the text"
   ]
  },
  {
   "cell_type": "markdown",
   "metadata": {},
   "source": [
    "### Use Dictinary \n",
    "###### I used dictionary method in order to having more optimize results."
   ]
  },
  {
   "cell_type": "code",
   "execution_count": 26,
   "metadata": {},
   "outputs": [],
   "source": [
    "#Initialize dictinary\n",
    "d={}\n",
    "#Count the number each word come up in the text\n",
    "for word in word_list:\n",
    "    d[word]=d.get(word,0)+1"
   ]
  },
  {
   "cell_type": "code",
   "execution_count": 27,
   "metadata": {},
   "outputs": [
    {
     "data": {
      "text/plain": [
       "{'mpartselona': 4,\n",
       " 'o': 9,\n",
       " 'kouman': 5,\n",
       " 'ipe': 3,\n",
       " 'ston': 3,\n",
       " 'pouts': 5,\n",
       " 'na': 5,\n",
       " 'psaksi': 2,\n",
       " 'nea': 4,\n",
       " 'omada': 3,\n",
       " 'epimelia:': 1,\n",
       " 'kostas': 1,\n",
       " 'avgoustakis': 1,\n",
       " 'dimosievsi': 1,\n",
       " '19': 1,\n",
       " 'sep': 1,\n",
       " '2020': 1,\n",
       " '17:52': 1,\n",
       " 'proponitis': 2,\n",
       " 'tis': 6,\n",
       " 'ronalnt': 2,\n",
       " 'ferete': 1,\n",
       " 'riki': 2,\n",
       " 'anazitisi': 1,\n",
       " 'ton': 7,\n",
       " 'epomeno': 1,\n",
       " 'stathmo': 1,\n",
       " 'karieras': 1,\n",
       " 'tou': 6,\n",
       " 'efoson': 2,\n",
       " 'den': 4,\n",
       " 'briskete': 2,\n",
       " 'sta': 2,\n",
       " 'plana': 2,\n",
       " 'gia': 4,\n",
       " 'ti': 2,\n",
       " 'sezon': 3,\n",
       " 'opos': 1,\n",
       " 'anaferi': 1,\n",
       " 'to': 4,\n",
       " 'katalaniko': 1,\n",
       " 'radiofono': 1,\n",
       " 'rac1': 1,\n",
       " '21hrono': 1,\n",
       " 'meso': 1,\n",
       " 'tin': 2,\n",
       " 'advertising': 1,\n",
       " 'simfona': 1,\n",
       " 'me': 4,\n",
       " 'ispaniko': 1,\n",
       " 'mme': 1,\n",
       " 'pistike': 1,\n",
       " 'osa': 1,\n",
       " 'ide': 1,\n",
       " 'apo': 2,\n",
       " 'stin': 2,\n",
       " 'proetimasia': 1,\n",
       " 'katalanon': 2,\n",
       " 'eno': 2,\n",
       " 'parallila': 1,\n",
       " 'theori': 1,\n",
       " 'oti': 1,\n",
       " 'iparhi': 1,\n",
       " 'horos': 1,\n",
       " 'gi': 1,\n",
       " 'avton': 1,\n",
       " 'sti': 1,\n",
       " 'mesea': 1,\n",
       " 'grammi': 1,\n",
       " 'omadas': 1,\n",
       " 'eki': 1,\n",
       " 'briskonte': 1,\n",
       " 'idi': 1,\n",
       " 'i': 2,\n",
       " 'nte': 1,\n",
       " 'giongk': 1,\n",
       " 'ke': 1,\n",
       " 'pianits': 1,\n",
       " 'opios': 1,\n",
       " 'proerhete': 1,\n",
       " 'ta': 1,\n",
       " 'fitoria': 1,\n",
       " 'ehi': 1,\n",
       " 'agonisti': 1,\n",
       " 'se': 1,\n",
       " '15': 1,\n",
       " 'pehnidia': 1,\n",
       " 'andriki': 1,\n",
       " 'kike': 1,\n",
       " 'setien': 1,\n",
       " 'hrisimopiise': 1,\n",
       " '11': 1,\n",
       " 'fores': 1,\n",
       " 'persini': 1,\n",
       " 'la': 1,\n",
       " 'liga': 1,\n",
       " 'simboleo': 1,\n",
       " 'tous': 1,\n",
       " 'mplaougkrana': 1,\n",
       " 'ligi': 1,\n",
       " '2023': 1,\n",
       " 'diabaste': 1,\n",
       " 'akoma:': 1,\n",
       " 'mpartselona:': 2,\n",
       " '16': 1,\n",
       " 'akarpes': 1,\n",
       " 'epafes': 1,\n",
       " 'klisi': 1,\n",
       " 'laoutaro': 1,\n",
       " 'martines': 1,\n",
       " 'theli': 1,\n",
       " 'ntest': 1}"
      ]
     },
     "execution_count": 27,
     "metadata": {},
     "output_type": "execute_result"
    }
   ],
   "source": [
    "#Dictinary\n",
    "d"
   ]
  },
  {
   "cell_type": "code",
   "execution_count": 33,
   "metadata": {},
   "outputs": [
    {
     "data": {
      "text/plain": [
       "[(4, 'mpartselona'),\n",
       " (9, 'o'),\n",
       " (5, 'kouman'),\n",
       " (3, 'ipe'),\n",
       " (3, 'ston'),\n",
       " (5, 'pouts'),\n",
       " (5, 'na'),\n",
       " (2, 'psaksi'),\n",
       " (4, 'nea'),\n",
       " (3, 'omada'),\n",
       " (1, 'epimelia:'),\n",
       " (1, 'kostas'),\n",
       " (1, 'avgoustakis'),\n",
       " (1, 'dimosievsi'),\n",
       " (1, '19'),\n",
       " (1, 'sep'),\n",
       " (1, '2020'),\n",
       " (1, '17:52'),\n",
       " (2, 'proponitis'),\n",
       " (6, 'tis'),\n",
       " (2, 'ronalnt'),\n",
       " (1, 'ferete'),\n",
       " (2, 'riki'),\n",
       " (1, 'anazitisi'),\n",
       " (7, 'ton'),\n",
       " (1, 'epomeno'),\n",
       " (1, 'stathmo'),\n",
       " (1, 'karieras'),\n",
       " (6, 'tou'),\n",
       " (2, 'efoson'),\n",
       " (4, 'den'),\n",
       " (2, 'briskete'),\n",
       " (2, 'sta'),\n",
       " (2, 'plana'),\n",
       " (4, 'gia'),\n",
       " (2, 'ti'),\n",
       " (3, 'sezon'),\n",
       " (1, 'opos'),\n",
       " (1, 'anaferi'),\n",
       " (4, 'to'),\n",
       " (1, 'katalaniko'),\n",
       " (1, 'radiofono'),\n",
       " (1, 'rac1'),\n",
       " (1, '21hrono'),\n",
       " (1, 'meso'),\n",
       " (2, 'tin'),\n",
       " (1, 'advertising'),\n",
       " (1, 'simfona'),\n",
       " (4, 'me'),\n",
       " (1, 'ispaniko'),\n",
       " (1, 'mme'),\n",
       " (1, 'pistike'),\n",
       " (1, 'osa'),\n",
       " (1, 'ide'),\n",
       " (2, 'apo'),\n",
       " (2, 'stin'),\n",
       " (1, 'proetimasia'),\n",
       " (2, 'katalanon'),\n",
       " (2, 'eno'),\n",
       " (1, 'parallila'),\n",
       " (1, 'theori'),\n",
       " (1, 'oti'),\n",
       " (1, 'iparhi'),\n",
       " (1, 'horos'),\n",
       " (1, 'gi'),\n",
       " (1, 'avton'),\n",
       " (1, 'sti'),\n",
       " (1, 'mesea'),\n",
       " (1, 'grammi'),\n",
       " (1, 'omadas'),\n",
       " (1, 'eki'),\n",
       " (1, 'briskonte'),\n",
       " (1, 'idi'),\n",
       " (2, 'i'),\n",
       " (1, 'nte'),\n",
       " (1, 'giongk'),\n",
       " (1, 'ke'),\n",
       " (1, 'pianits'),\n",
       " (1, 'opios'),\n",
       " (1, 'proerhete'),\n",
       " (1, 'ta'),\n",
       " (1, 'fitoria'),\n",
       " (1, 'ehi'),\n",
       " (1, 'agonisti'),\n",
       " (1, 'se'),\n",
       " (1, '15'),\n",
       " (1, 'pehnidia'),\n",
       " (1, 'andriki'),\n",
       " (1, 'kike'),\n",
       " (1, 'setien'),\n",
       " (1, 'hrisimopiise'),\n",
       " (1, '11'),\n",
       " (1, 'fores'),\n",
       " (1, 'persini'),\n",
       " (1, 'la'),\n",
       " (1, 'liga'),\n",
       " (1, 'simboleo'),\n",
       " (1, 'tous'),\n",
       " (1, 'mplaougkrana'),\n",
       " (1, 'ligi'),\n",
       " (1, '2023'),\n",
       " (1, 'diabaste'),\n",
       " (1, 'akoma:'),\n",
       " (2, 'mpartselona:'),\n",
       " (1, '16'),\n",
       " (1, 'akarpes'),\n",
       " (1, 'epafes'),\n",
       " (1, 'klisi'),\n",
       " (1, 'laoutaro'),\n",
       " (1, 'martines'),\n",
       " (1, 'theli'),\n",
       " (1, 'ntest')]"
      ]
     },
     "execution_count": 33,
     "metadata": {},
     "output_type": "execute_result"
    }
   ],
   "source": [
    "#Reverse key and values using Taples\n",
    "word_count = []\n",
    "for key,value in d.items():\n",
    "    word_count.append((value,key))\n",
    "word_count"
   ]
  },
  {
   "cell_type": "code",
   "execution_count": 37,
   "metadata": {},
   "outputs": [
    {
     "name": "stdout",
     "output_type": "stream",
     "text": [
      "[(4, 'mpartselona'), (9, 'o'), (5, 'kouman'), (3, 'ipe'), (3, 'ston'), (5, 'pouts'), (5, 'na'), (2, 'psaksi'), (4, 'nea'), (3, 'omada'), (1, 'epimelia:'), (1, 'kostas'), (1, 'avgoustakis'), (1, 'dimosievsi'), (1, '19'), (1, 'sep'), (1, '2020'), (1, '17:52'), (2, 'proponitis'), (6, 'tis'), (2, 'ronalnt'), (1, 'ferete'), (2, 'riki'), (1, 'anazitisi'), (7, 'ton'), (1, 'epomeno'), (1, 'stathmo'), (1, 'karieras'), (6, 'tou'), (2, 'efoson'), (4, 'den'), (2, 'briskete'), (2, 'sta'), (2, 'plana'), (4, 'gia'), (2, 'ti'), (3, 'sezon'), (1, 'opos'), (1, 'anaferi'), (4, 'to'), (1, 'katalaniko'), (1, 'radiofono'), (1, 'rac1'), (1, '21hrono'), (1, 'meso'), (2, 'tin'), (1, 'advertising'), (1, 'simfona'), (4, 'me'), (1, 'ispaniko'), (1, 'mme'), (1, 'pistike'), (1, 'osa'), (1, 'ide'), (2, 'apo'), (2, 'stin'), (1, 'proetimasia'), (2, 'katalanon'), (2, 'eno'), (1, 'parallila'), (1, 'theori'), (1, 'oti'), (1, 'iparhi'), (1, 'horos'), (1, 'gi'), (1, 'avton'), (1, 'sti'), (1, 'mesea'), (1, 'grammi'), (1, 'omadas'), (1, 'eki'), (1, 'briskonte'), (1, 'idi'), (2, 'i'), (1, 'nte'), (1, 'giongk'), (1, 'ke'), (1, 'pianits'), (1, 'opios'), (1, 'proerhete'), (1, 'ta'), (1, 'fitoria'), (1, 'ehi'), (1, 'agonisti'), (1, 'se'), (1, '15'), (1, 'pehnidia'), (1, 'andriki'), (1, 'kike'), (1, 'setien'), (1, 'hrisimopiise'), (1, '11'), (1, 'fores'), (1, 'persini'), (1, 'la'), (1, 'liga'), (1, 'simboleo'), (1, 'tous'), (1, 'mplaougkrana'), (1, 'ligi'), (1, '2023'), (1, 'diabaste'), (1, 'akoma:'), (2, 'mpartselona:'), (1, '16'), (1, 'akarpes'), (1, 'epafes'), (1, 'klisi'), (1, 'laoutaro'), (1, 'martines'), (1, 'theli'), (1, 'ntest')]\n"
     ]
    }
   ],
   "source": [
    "#Sort and print the text\n",
    "word_count.sort\n",
    "print (word_count)"
   ]
  },
  {
   "cell_type": "markdown",
   "metadata": {},
   "source": [
    "<a id='wc'></a>\n",
    "## Create wordcloud"
   ]
  },
  {
   "cell_type": "code",
   "execution_count": 59,
   "metadata": {},
   "outputs": [
    {
     "data": {
      "image/png": "[encoded data removed]",
      "text/plain": [
       "<Figure size 432x288 with 1 Axes>"
      ]
     },
     "metadata": {
      "needs_background": "light"
     },
     "output_type": "display_data"
    }
   ],
   "source": [
    "custom_mask = np.array(Image.open('stormtrooper_mask.png'))\n",
    "wc = WordCloud(\n",
    "                          background_color='white', # Define background color\n",
    "                          stopwords=stopwords,      # Extract some words from word cloud\n",
    "                          max_words=80,             # Number of the words appear in the word cloud\n",
    "                          max_font_size=40,\n",
    "                          mask=custom_mask)         #Error the png image does not appear.\n",
    "wc.generate(str(text))\n",
    "                          \n",
    "#Create the plot.\n",
    "plt.imshow(wordcloud, interpolation='bilinear')\n",
    "plt.axis('off')\n",
    "plt.show()\n"
   ]
  },
  {
   "cell_type": "code",
   "execution_count": 62,
   "metadata": {},
   "outputs": [
    {
     "name": "stdout",
     "output_type": "stream",
     "text": [
      "PNG\n",
      "(5400, 3600)\n",
      "RGBA\n"
     ]
    }
   ],
   "source": [
    "image = Image.open('stormtrooper_mask.png')\n",
    "print(image.format)\n",
    "print(image.size)\n",
    "print(image.mode)\n"
   ]
  }
 ],
 "metadata": {
  "kernelspec": {
   "display_name": "Python 3",
   "language": "python",
   "name": "python3"
  },
  "language_info": {
   "codemirror_mode": {
    "name": "ipython",
    "version": 3
   },
   "file_extension": ".py",
   "mimetype": "text/x-python",
   "name": "python",
   "nbconvert_exporter": "python",
   "pygments_lexer": "ipython3",
   "version": "3.7.7"
  }
 },
 "nbformat": 4,
 "nbformat_minor": 4
}
